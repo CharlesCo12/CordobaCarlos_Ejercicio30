{
 "cells": [
  {
   "cell_type": "code",
   "execution_count": 1,
   "metadata": {},
   "outputs": [],
   "source": [
    "import numpy as np\n",
    "import matplotlib.pyplot as plt\n",
    "import torch\n",
    "import torchvision\n",
    "import sklearn.datasets\n",
    "import torchvision.models\n",
    "import torchvision.transforms\n",
    "import sklearn.preprocessing"
   ]
  },
  {
   "cell_type": "code",
   "execution_count": 2,
   "metadata": {},
   "outputs": [],
   "source": [
    "numeros = sklearn.datasets.load_digits()\n",
    "imagenes = numeros['images']  # Hay 1797 digitos representados en imagenes 8x8\n",
    "n_imagenes = len(imagenes)\n",
    "X = imagenes.reshape((n_imagenes, -1)) # para volver a tener los datos como imagen basta hacer data.reshape((n_imagenes, 8, 8))\n",
    "Y = numeros['target']"
   ]
  },
  {
   "cell_type": "code",
   "execution_count": 3,
   "metadata": {},
   "outputs": [],
   "source": [
    "scaler = sklearn.preprocessing.StandardScaler()\n",
    "X_train = scaler.fit_transform(X)\n",
    "X_train = X_train.reshape((n_imagenes, 8,8))\n",
    "X_train = np.expand_dims(X_train,1)"
   ]
  },
  {
   "cell_type": "code",
   "execution_count": 4,
   "metadata": {},
   "outputs": [],
   "source": [
    "inputs = torch.autograd.Variable(torch.Tensor(X_train).float())\n",
    "targets = torch.autograd.Variable(torch.Tensor(Y).long())"
   ]
  },
  {
   "cell_type": "code",
   "execution_count": 5,
   "metadata": {},
   "outputs": [
    {
     "data": {
      "text/plain": [
       "torch.Size([1797, 1, 8, 8])"
      ]
     },
     "execution_count": 5,
     "metadata": {},
     "output_type": "execute_result"
    }
   ],
   "source": [
    "mean = inputs.mean(dim=0)\n",
    "std = inputs.std(dim=0)\n",
    "std[std==0]=1.0\n",
    "\n",
    "for i in range(len(inputs)):\n",
    "    inputs[i] = (inputs[i]-mean)/std\n",
    "np.shape(inputs)"
   ]
  },
  {
   "cell_type": "code",
   "execution_count": 99,
   "metadata": {},
   "outputs": [],
   "source": [
    "class Autoencoder(torch.nn.Module):\n",
    "    def __init__(self):\n",
    "        super(Autoencoder,self).__init__()\n",
    "        self.encoder = torch.nn.Sequential(\n",
    "            torch.nn.Conv2d(1, 16, kernel_size=3),\n",
    "            torch.nn.Conv2d(16,8,kernel_size=3),\n",
    "            torch.nn.Conv2d(8,10,kernel_size=3))\n",
    "        self.decoder = torch.nn.Sequential(\n",
    "            torch.nn.ConvTranspose2d(10,8,kernel_size=3),\n",
    "            torch.nn.ConvTranspose2d(8,16,kernel_size=3),\n",
    "            torch.nn.ConvTranspose2d(16,1,kernel_size=3))\n",
    "    def forward(self,x):\n",
    "        x = self.encoder(x)\n",
    "        x = self.decoder(x)\n",
    "        return x"
   ]
  },
  {
   "cell_type": "code",
   "execution_count": 100,
   "metadata": {},
   "outputs": [],
   "source": [
    "# inicializa modelo, loss y optimizador\n",
    "num_epochs = 100\n",
    "model = Autoencoder()\n",
    "distance = torch.nn.MSELoss()\n",
    "optimizer = torch.optim.Adam(model.parameters(), lr=0.01, weight_decay=1E-3)"
   ]
  },
  {
   "cell_type": "code",
   "execution_count": 101,
   "metadata": {},
   "outputs": [
    {
     "data": {
      "text/plain": [
       "torch.Size([1797, 1, 8, 8])"
      ]
     },
     "execution_count": 101,
     "metadata": {},
     "output_type": "execute_result"
    }
   ],
   "source": [
    "output = model(inputs)\n",
    "np.shape(output)"
   ]
  },
  {
   "cell_type": "code",
   "execution_count": 9,
   "metadata": {},
   "outputs": [
    {
     "name": "stdout",
     "output_type": "stream",
     "text": [
      "0\n",
      "1\n",
      "2\n",
      "3\n",
      "4\n",
      "5\n",
      "6\n",
      "7\n",
      "8\n",
      "9\n",
      "10\n",
      "11\n",
      "12\n",
      "13\n",
      "14\n",
      "15\n",
      "16\n",
      "17\n",
      "18\n",
      "19\n",
      "20\n",
      "21\n",
      "22\n",
      "23\n",
      "24\n",
      "25\n",
      "26\n",
      "27\n",
      "28\n",
      "29\n",
      "30\n",
      "31\n",
      "32\n",
      "33\n",
      "34\n",
      "35\n",
      "36\n",
      "37\n",
      "38\n",
      "39\n",
      "40\n",
      "41\n",
      "42\n",
      "43\n",
      "44\n",
      "45\n",
      "46\n",
      "47\n",
      "48\n",
      "49\n",
      "50\n",
      "51\n",
      "52\n",
      "53\n",
      "54\n",
      "55\n",
      "56\n",
      "57\n",
      "58\n",
      "59\n",
      "60\n",
      "61\n",
      "62\n",
      "63\n",
      "64\n",
      "65\n",
      "66\n",
      "67\n",
      "68\n",
      "69\n",
      "70\n",
      "71\n",
      "72\n",
      "73\n",
      "74\n",
      "75\n",
      "76\n",
      "77\n",
      "78\n",
      "79\n",
      "80\n",
      "81\n",
      "82\n",
      "83\n",
      "84\n",
      "85\n",
      "86\n",
      "87\n",
      "88\n",
      "89\n",
      "90\n",
      "91\n",
      "92\n",
      "93\n",
      "94\n",
      "95\n",
      "96\n",
      "97\n",
      "98\n",
      "99\n"
     ]
    }
   ],
   "source": [
    "# entrenamiento\n",
    "L=[]\n",
    "for epoch in range(num_epochs):\n",
    "    output = model(inputs)\n",
    "    loss = distance(output, inputs)\n",
    "    optimizer.zero_grad()\n",
    "    loss.backward()\n",
    "    optimizer.step()\n",
    "    L.append(loss.item())\n",
    "    print(epoch)"
   ]
  },
  {
   "cell_type": "code",
   "execution_count": 10,
   "metadata": {},
   "outputs": [
    {
     "data": {
      "text/plain": [
       "<matplotlib.collections.LineCollection at 0x7fbf946c3fd0>"
      ]
     },
     "execution_count": 10,
     "metadata": {},
     "output_type": "execute_result"
    },
    {
     "data": {
      "image/png": "[encoded data removed]",
      "text/plain": [
       "<Figure size 432x288 with 1 Axes>"
      ]
     },
     "metadata": {
      "needs_background": "light"
     },
     "output_type": "display_data"
    }
   ],
   "source": [
    "n = np.arange(num_epochs)\n",
    "plt.plot(n,L)\n",
    "plt.xlabel('epochs')\n",
    "plt.ylabel('Loss')\n",
    "plt.hlines(0.3,linestyles='dashed',xmin=n[0],xmax=n[-1])"
   ]
  },
  {
   "cell_type": "code",
   "execution_count": 11,
   "metadata": {},
   "outputs": [],
   "source": [
    "x_transform = model(inputs)\n",
    "latent_space = model.encoder(inputs)"
   ]
  },
  {
   "cell_type": "code",
   "execution_count": 12,
   "metadata": {},
   "outputs": [
    {
     "data": {
      "image/png": "[encoded data removed]",
      "text/plain": [
       "<Figure size 1008x1008 with 15 Axes>"
      ]
     },
     "metadata": {
      "needs_background": "light"
     },
     "output_type": "display_data"
    }
   ],
   "source": [
    "# muestra los resultados de las cuatro capas de convolucion\n",
    "plt.figure(figsize=(14,14))\n",
    "offset = 0\n",
    "for i in range(5):\n",
    "    plt.subplot(5,5,i+1) #imagenes originales\n",
    "    plt.imshow(inputs[i+offset][0].detach().numpy())\n",
    "    \n",
    "    j=0 # las imagenes reconstruidas por el autoencoder\n",
    "    plt.subplot(5,5,(i+1)+5*(j+1))\n",
    "    plt.imshow(x_transform[i+offset][0].detach().numpy())\n",
    "    \n",
    "    j=1 # una de las capas de la representacion latente\n",
    "    plt.subplot(5,5,(i+1)+5*(j+1))\n",
    "    plt.imshow(latent_space[i+offset][2].detach().numpy())"
   ]
  },
  {
   "cell_type": "code",
   "execution_count": 13,
   "metadata": {},
   "outputs": [
    {
     "name": "stdout",
     "output_type": "stream",
     "text": [
      "2145\n"
     ]
    }
   ],
   "source": [
    "n_p = 0\n",
    "for m in model.parameters():\n",
    "    n_p+= m.flatten().size()[0]\n",
    "print(n_p)"
   ]
  },
  {
   "cell_type": "code",
   "execution_count": 15,
   "metadata": {},
   "outputs": [
    {
     "data": {
      "text/plain": [
       "torch.Size([129384])"
      ]
     },
     "execution_count": 15,
     "metadata": {},
     "output_type": "execute_result"
    }
   ],
   "source": [
    "latent_space.flatten().size()"
   ]
  },
  {
   "cell_type": "code",
   "execution_count": 106,
   "metadata": {},
   "outputs": [],
   "source": [
    "def complexity(y):\n",
    "    class Autoencoder(torch.nn.Module):\n",
    "        def __init__(self):\n",
    "            super(Autoencoder,self).__init__()\n",
    "            self.encoder = torch.nn.Sequential(\n",
    "                torch.nn.Conv2d(1, 16, kernel_size=3),\n",
    "                torch.nn.Conv2d(16,8,kernel_size=3),\n",
    "                torch.nn.Conv2d(8,y,kernel_size=3))\n",
    "            self.decoder = torch.nn.Sequential(\n",
    "                torch.nn.ConvTranspose2d(y,8,kernel_size=3),\n",
    "                torch.nn.ConvTranspose2d(8,16,kernel_size=3),\n",
    "                torch.nn.ConvTranspose2d(16,1,kernel_size=3))\n",
    "        def forward(self,x):\n",
    "            x = self.encoder(x)\n",
    "            x = self.decoder(x)\n",
    "            return x\n",
    "    # inicializa modelo, loss y optimizador\n",
    "    num_epochs = 100\n",
    "    model = Autoencoder()\n",
    "    distance = torch.nn.MSELoss()\n",
    "    optimizer = torch.optim.Adam(model.parameters(), lr=0.01, weight_decay=1E-3)\n",
    "    print('Comenzamos a calcular para y= '+str(y))\n",
    "    L=[]\n",
    "    for epoch in range(num_epochs):\n",
    "        output = model(inputs)\n",
    "        loss = distance(output, inputs)\n",
    "        optimizer.zero_grad()\n",
    "        loss.backward()\n",
    "        optimizer.step()\n",
    "        L.append(loss.item())\n",
    "    print('Acabamos de terminar con loss = '+str(L[-1]))\n",
    "    latent_space = model.encoder(inputs)\n",
    "    n_p = 0\n",
    "    for m in model.parameters():\n",
    "        n_p+= m.flatten().size()[0]\n",
    "    n_l=latent_space.flatten().size()\n",
    "    print('Acabamos de terminar con np = '+str(n_p)+' con dim = '+str(n_l[0]))\n",
    "    return [n_p,n_l[0],L[-1]]"
   ]
  },
  {
   "cell_type": "code",
   "execution_count": 107,
   "metadata": {},
   "outputs": [
    {
     "name": "stdout",
     "output_type": "stream",
     "text": [
      "Comenzamos a calcular para y= 1\n",
      "Acabamos de terminar con loss = 0.7822249531745911\n",
      "Acabamos de terminar con np = 2786 con dim = 7188\n",
      "Comenzamos a calcular para y= 2\n",
      "Acabamos de terminar con loss = 0.6466318964958191\n",
      "Acabamos de terminar con np = 2931 con dim = 14376\n",
      "Comenzamos a calcular para y= 3\n",
      "Acabamos de terminar con loss = 0.5514754056930542\n",
      "Acabamos de terminar con np = 3076 con dim = 21564\n",
      "Comenzamos a calcular para y= 4\n",
      "Acabamos de terminar con loss = 0.4739183783531189\n",
      "Acabamos de terminar con np = 3221 con dim = 28752\n",
      "Comenzamos a calcular para y= 5\n",
      "Acabamos de terminar con loss = 0.4132101535797119\n",
      "Acabamos de terminar con np = 3366 con dim = 35940\n",
      "Comenzamos a calcular para y= 6\n",
      "Acabamos de terminar con loss = 0.36251044273376465\n",
      "Acabamos de terminar con np = 3511 con dim = 43128\n",
      "Comenzamos a calcular para y= 7\n",
      "Acabamos de terminar con loss = 0.3135085701942444\n",
      "Acabamos de terminar con np = 3656 con dim = 50316\n",
      "Comenzamos a calcular para y= 8\n",
      "Acabamos de terminar con loss = 0.26414281129837036\n",
      "Acabamos de terminar con np = 3801 con dim = 57504\n",
      "Comenzamos a calcular para y= 9\n",
      "Acabamos de terminar con loss = 0.24869927763938904\n",
      "Acabamos de terminar con np = 3946 con dim = 64692\n",
      "Comenzamos a calcular para y= 10\n",
      "Acabamos de terminar con loss = 0.20504362881183624\n",
      "Acabamos de terminar con np = 4091 con dim = 71880\n"
     ]
    }
   ],
   "source": [
    "y=np.arange(1,11)\n",
    "data=[]\n",
    "for i in y:\n",
    "    data.append(complexity(i))"
   ]
  },
  {
   "cell_type": "code",
   "execution_count": 109,
   "metadata": {},
   "outputs": [
    {
     "data": {
      "text/plain": [
       "[[2786, 7188, 0.7822249531745911],\n",
       " [2931, 14376, 0.6466318964958191],\n",
       " [3076, 21564, 0.5514754056930542],\n",
       " [3221, 28752, 0.4739183783531189],\n",
       " [3366, 35940, 0.4132101535797119],\n",
       " [3511, 43128, 0.36251044273376465],\n",
       " [3656, 50316, 0.3135085701942444],\n",
       " [3801, 57504, 0.26414281129837036],\n",
       " [3946, 64692, 0.24869927763938904],\n",
       " [4091, 71880, 0.20504362881183624]]"
      ]
     },
     "execution_count": 109,
     "metadata": {},
     "output_type": "execute_result"
    }
   ],
   "source": [
    "data"
   ]
  },
  {
   "cell_type": "code",
   "execution_count": 112,
   "metadata": {},
   "outputs": [],
   "source": [
    "dat=np.array(data)"
   ]
  },
  {
   "cell_type": "code",
   "execution_count": 114,
   "metadata": {},
   "outputs": [],
   "source": [
    "np=dat[:,0]\n",
    "nl=dat[:,1]\n",
    "loss=dat[:,2]"
   ]
  },
  {
   "cell_type": "code",
   "execution_count": 116,
   "metadata": {},
   "outputs": [
    {
     "data": {
      "text/plain": [
       "Text(0, 0.5, 'loss')"
      ]
     },
     "execution_count": 116,
     "metadata": {},
     "output_type": "execute_result"
    },
    {
     "data": {
      "image/png": "[encoded data removed]",
      "text/plain": [
       "<Figure size 432x288 with 1 Axes>"
      ]
     },
     "metadata": {
      "needs_background": "light"
     },
     "output_type": "display_data"
    }
   ],
   "source": [
    "plt.scatter(np,loss)\n",
    "plt.xlabel('np')\n",
    "plt.ylabel('loss')"
   ]
  },
  {
   "cell_type": "code",
   "execution_count": 117,
   "metadata": {},
   "outputs": [
    {
     "data": {
      "text/plain": [
       "Text(0, 0.5, 'loss')"
      ]
     },
     "execution_count": 117,
     "metadata": {},
     "output_type": "execute_result"
    },
    {
     "data": {
      "image/png": "[encoded data removed]",
      "text/plain": [
       "<Figure size 432x288 with 1 Axes>"
      ]
     },
     "metadata": {
      "needs_background": "light"
     },
     "output_type": "display_data"
    }
   ],
   "source": [
    "plt.scatter(nl,loss)\n",
    "plt.xlabel('nl')\n",
    "plt.ylabel('loss')"
   ]
  },
  {
   "cell_type": "code",
   "execution_count": 118,
   "metadata": {},
   "outputs": [
    {
     "data": {
      "text/plain": [
       "Text(0, 0.5, 'nl')"
      ]
     },
     "execution_count": 118,
     "metadata": {},
     "output_type": "execute_result"
    },
    {
     "data": {
      "image/png": "[encoded data removed]",
      "text/plain": [
       "<Figure size 432x288 with 1 Axes>"
      ]
     },
     "metadata": {
      "needs_background": "light"
     },
     "output_type": "display_data"
    }
   ],
   "source": [
    "plt.scatter(np,nl)\n",
    "plt.xlabel('np')\n",
    "plt.ylabel('nl')"
   ]
  },
  {
   "cell_type": "code",
   "execution_count": null,
   "metadata": {},
   "outputs": [],
   "source": []
  }
 ],
 "metadata": {
  "kernelspec": {
   "display_name": "Python 3",
   "language": "python",
   "name": "python3"
  },
  "language_info": {
   "codemirror_mode": {
    "name": "ipython",
    "version": 3
   },
   "file_extension": ".py",
   "mimetype": "text/x-python",
   "name": "python",
   "nbconvert_exporter": "python",
   "pygments_lexer": "ipython3",
   "version": "3.7.6"
  }
 },
 "nbformat": 4,
 "nbformat_minor": 4
}
